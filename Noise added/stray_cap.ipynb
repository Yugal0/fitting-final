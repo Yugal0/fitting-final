{
 "cells": [
  {
   "cell_type": "code",
   "execution_count": 45,
   "metadata": {},
   "outputs": [],
   "source": [
    "%matplotlib ipympl\n",
    "import numpy as np\n",
    "import scipy as sp\n",
    "import matplotlib.pyplot as plt\n",
    "from scipy.integrate import solve_bvp\n",
    "from impedance.models.circuits import CustomCircuit\n",
    "from impedance.models.circuits.elements import element\n",
    "from impedance.preprocessing import readCSV, readBioLogic\n",
    "from impedance.visualization import plot_nyquist,plot_bode\n",
    "from mpmath import *"
   ]
  },
  {
   "cell_type": "code",
   "execution_count": 46,
   "metadata": {},
   "outputs": [],
   "source": [
    "@element(num_params=3, units=[\"Ohm\", \"F\", \"\"],overwrite=True)\n",
    "def TLMuni(p,f):\n",
    "    omega = 2 * np.pi * np.array(f)\n",
    "    R1, Q, alpha = p[0], p[1], p[2]\n",
    "    Z= 2*np.sqrt(R1/((omega*1j)**alpha*Q))*(1/(np.tanh(np.sqrt((1j*omega)**alpha*R1*Q))))\n",
    "    return Z\n",
    "\n",
    "@element(num_params=5, units=[\"Ohm\", \"Ohm F\", \"Ohm F\",\"\",\"\"],overwrite=True)\n",
    "def TLMtwo(p,f):\n",
    "   \n",
    "    omega = 2 * np.pi * np.array(f)\n",
    "    R1, R1Q, R2Q, delta1, alpha = p[0], p[1], p[2], p[3], p[4]\n",
    "    delta2=1-delta1\n",
    "    k12=R2Q/R1Q\n",
    "    wc1=1/(R1Q)\n",
    "    wc2=1/(R2Q)\n",
    "    S1=np.sqrt((omega*1j)**alpha/wc1)\n",
    "    S2=np.sqrt((omega*1j)**alpha/wc2)\n",
    "    C1=1/np.tanh(delta1*S1)\n",
    "    C2=1/np.tanh(delta2*S2)\n",
    "\n",
    "    Z=2*(R1)*(C1*C2*S1*k12+S2)/(S1*(C2*S1*k12+C1*S2))\n",
    "\n",
    "    return Z\n",
    "\n",
    "@element(num_params=4, units=[\"Ohm\", \"Ohm F\", \"Ohm F\", \"\"],overwrite=True)\n",
    "def TLMlinnew(p,f):\n",
    "    omega = 2 * np.pi * np.array(f)\n",
    "    R1, R1Q, R2Q, alpha = p[0], p[1], p[2], p[3]\n",
    "    Q=R1Q/R1\n",
    "    R2=R2Q/Q\n",
    "    t12=R1/R2\n",
    "    S=np.sqrt((1j*omega)**alpha*R1*Q)\n",
    "    kk1=-2/3*(S*(t12**(-1/2)/(t12-1)))\n",
    "    kk2=-2/3*(t12*S/(t12-1))\n",
    "    Z=[]\n",
    "    for omg in omega:\n",
    "        S=np.sqrt((1j*omg)**alpha*R1*Q)\n",
    "        kk1=-2/3*(S*(t12**(-1/2)/(t12-1)))\n",
    "        kk2=-2/3*(t12*S/(t12-1))\n",
    "        Zelem = (2*R1/S)*(mp.besseli(1/3, kk1)*mp.besseli(2/3, kk2)-mp.besseli(-1/3, kk1)*mp.besseli(-2/3, kk2))/((mp.besseli(-1/3, kk1))*mp.besseli(1/3, kk2)-mp.besseli(1/3, kk1)*mp.besseli(-1/3, kk2))\n",
    "        Zelem=mp.nstr(Zelem,n=50)\n",
    "        Zelem = Zelem.replace(' ','').replace('(','').replace(')','') \n",
    "        Z.append(Zelem)\n",
    "\n",
    "    Z=np.asarray(Z,dtype=complex)\n",
    "    return Z\n",
    "\n",
    "\n",
    "@element(num_params=4, units=[\"Ohm\", \"Ohm F\", \"Ohm F\", \"\"],overwrite=True)\n",
    "def TLMlinzert(p,f):\n",
    "    omega = 2 * np.pi * np.array(f)\n",
    "    R1, R1Q, R2Q, alpha = p[0], p[1], p[2], p[3]\n",
    "    Q=R1Q/R1\n",
    "    R2=R2Q/Q\n",
    "    eps=(R2-R1)/R1\n",
    "    S=np.sqrt((R1*Q*(omega*1j)**alpha))\n",
    "\n",
    "    #second expansion\n",
    "    Z=2*4*R1*(np.exp(4*S)+2*np.exp(2*S)+1)*(np.exp(2*S)+1)*S/((((S**4-2/3*(S**3)+2*S**2-5/2*S+1/8)*eps**2+(4*S**3+S)*eps-4*S**2)*np.exp(2*S)+((-S**4-2/3*(S**3)-2*S**2-5/2*S-1/8)*eps**2+(4*S**3+S)*eps+4*S**2)*np.exp(4*S)+(4*S**2-S*eps+7/8*(eps**2))*np.exp(6*S)-4*S**2-S*eps-7*eps**2*(1/8)))\n",
    "    return Z\n",
    "\n",
    "@element(num_params=4, units=[\"Ohm\", \"Ohm F\", \"Ohm F\", \"\"],overwrite=True)\n",
    "def TLMilin(p,f):\n",
    "    omega = 2 * np.pi * np.array(f)\n",
    "    R1, R1Q, R2Q, alpha = p[0], p[1], p[2], p[3]\n",
    "    Q=R1Q/R1\n",
    "    R2=R2Q/Q\n",
    "    t12=R1/R2\n",
    "    wclin1=1/(R1*Q)\n",
    "    wclin2=1/(R2*Q)\n",
    "    S1=np.sqrt((1j*omega)**alpha/wclin1)\n",
    "    S2=np.sqrt((1j*omega)**alpha/wclin2)\n",
    "    \n",
    "    Z = -(2*1j*R1/S1)*(((scipy.special.yv(1,-2*1j*t12*S2/(t12-1)))*(scipy.special.jv(0,-2*1j*S1/(t12-1))))-((scipy.special.jv(1,-2*1j*t12*S2/(t12-1)))*(scipy.special.yv(0,-2*1j*S1/(t12-1)))))/(((scipy.special.jv(1,-2*1j*t12*S2/(t12-1)))*(scipy.special.yv(1,-2*1j*S1/(t12-1))))-((scipy.special.yv(1,-2*1j*t12*S2/(t12-1)))*(scipy.special.jv(1,-2*1j*S1/(t12-1)))))\n",
    "    \n",
    "    return Z\n",
    "\n",
    "@element(num_params=4, units=[\"Ohm\", \"Ohm F\", \"Ohm F\", \"\"],overwrite=True)\n",
    "def TLMilinnew(p,f):\n",
    "    omega = 2 * np.pi * np.array(f)\n",
    "    R1, R1Q, R2Q, alpha = p[0], p[1], p[2], p[3]\n",
    "    Q=R1Q/R1\n",
    "    R2=R2Q/Q\n",
    "    t12=R1/R2\n",
    "    wclin1=1/(R1*Q)\n",
    "    wclin2=1/(R2*Q)\n",
    "    Z=[]\n",
    "    for omg in omega:\n",
    "        S1=np.sqrt((1j*omg)**alpha/wclin1)\n",
    "        S2=np.sqrt((1j*omg)**alpha/wclin2)\n",
    "        Zelem = -(2*1j*R1/S1)*(((mp.bessely(1,-2*1j*t12*S2/(t12-1)))*(mp.besselj(0,-2*1j*S1/(t12-1))))-((mp.besselj(1,-2*1j*t12*S2/(t12-1)))*(mp.bessely(0,-2*1j*S1/(t12-1)))))/(((mp.besselj(1,-2*1j*t12*S2/(t12-1)))*(mp.bessely(1,-2*1j*S1/(t12-1))))-((mp.bessely(1,-2*1j*t12*S2/(t12-1)))*(mp.besselj(1,-2*1j*S1/(t12-1)))))\n",
    "        Zelem=mp.nstr(Zelem,n=50)\n",
    "        Zelem = Zelem.replace(' ','').replace('(','').replace(')','') \n",
    "        Z.append(Zelem)\n",
    "\n",
    "    Z=np.asarray(Z,dtype=complex)\n",
    "    \n",
    "    return Z\n",
    "\n",
    "\n",
    "@element(num_params=4, units=[\"Ohm\", \"Ohm F\", \"Ohm F\", \"\"],overwrite=True)\n",
    "def TLMilinzert(p,f):\n",
    "    omega = 2 * np.pi * np.array(f)\n",
    "    R1, R1Q, R2Q, alpha = p[0], p[1], p[2], p[3]\n",
    "    Q=R1Q/R1\n",
    "    R2=R2Q/Q\n",
    "    wclin1=1/(R1*Q)\n",
    "    eps=R1/R2-1\n",
    "    S=np.sqrt((1j*omega)**alpha/wclin1)\n",
    "\n",
    "    Z=2*R1*4*(np.exp(4*S)+2*np.exp(2*S)+1)*(np.exp(2*S)+1)*S/((((S**4+2*S**3+2*S**2+3/2*S+9/8)*eps**2+(-4*S**3-S)*eps-4*S**2)*np.exp(2*S)+((-S**4+2*S**3-2*S**2+3/2*S-9/8)*eps**2+(-4*S**3-S)*eps+4*S**2)*np.exp(4*S)+(-(1/8)*eps**2+S*eps+4*S**2)*np.exp(6*S)-4*S**2+S*eps+(1/8)*eps**2))\n",
    "    \n",
    "    return Z\n",
    "\n",
    "def find_index_of_nearest(array, value):\n",
    "    array = np.asarray(array)\n",
    "    idx = (np.abs(array - value)).argmin()\n",
    "    return idx"
   ]
  },
  {
   "cell_type": "code",
   "execution_count": 47,
   "metadata": {},
   "outputs": [],
   "source": [
    "Q=6.61e-4\n",
    "alpha=1\n",
    "\n",
    "R1=5.22*194.5\n",
    "delta1=0.12\n",
    "R2=3.47*194.5\n",
    "delta2=0.17\n",
    "R3=2.15*194.5\n",
    "\n",
    "\n",
    "#initial guesses for the HFR intercept and for any semicircle like features in the EIS data\n",
    "# Rhfr=40\n",
    "# Rrxn=40\n",
    "Qdl=1e-5\n",
    "alpha2=1"
   ]
  },
  {
   "cell_type": "code",
   "execution_count": 48,
   "metadata": {},
   "outputs": [],
   "source": [
    "# cmodel=CustomCircuit(initial_guess=[R1,R1*Q,R2*Q,R3*Q,delta1,delta2,alpha,Rhfr,Rrxn,Qdl,alpha2],circuit=\"TLMthree_1-R_1-p(R_2,CPE_1)\")\n",
    "\n",
    "cmodel1=CustomCircuit(initial_guess=[R1,R1*Q,R2*Q,delta1,alpha,Qdl,alpha2],circuit=\"p(TLMtwo_1,CPE_1)\")\n",
    "\n",
    "cmodel2=CustomCircuit(initial_guess=[R1,R1*Q,R2*Q,delta1,alpha],circuit=\"TLMtwo_1\")\n",
    "\n",
    "# cmodel2=CustomCircuit(initial_guess=[R1,R1*Q,R2*Q,delta1,alpha],circuit=\"TLMtwo_1\")"
   ]
  },
  {
   "cell_type": "code",
   "execution_count": 58,
   "metadata": {},
   "outputs": [
    {
     "data": {
      "text/plain": [
       "array([5, 6, 7, 7, 1, 2, 2])"
      ]
     },
     "execution_count": 58,
     "metadata": {},
     "output_type": "execute_result"
    }
   ],
   "source": [
    "np.hstack(([5,6,7,7],[1,2,2]))"
   ]
  },
  {
   "cell_type": "code",
   "execution_count": 82,
   "metadata": {},
   "outputs": [
    {
     "name": "stderr",
     "output_type": "stream",
     "text": [
      "C:\\Users\\admin\\AppData\\Local\\Packages\\PythonSoftwareFoundation.Python.3.10_qbz5n2kfra8p0\\LocalCache\\local-packages\\Python310\\site-packages\\impedance\\models\\circuits\\circuits.py:144: UserWarning: Simulating circuit based on initial parameters\n",
      "  warnings.warn(\"Simulating circuit based on initial parameters\")\n"
     ]
    },
    {
     "ename": "RuntimeError",
     "evalue": "Optimal parameters not found: The maximum number of function evaluations is exceeded.",
     "output_type": "error",
     "traceback": [
      "\u001b[1;31m---------------------------------------------------------------------------\u001b[0m",
      "\u001b[1;31mRuntimeError\u001b[0m                              Traceback (most recent call last)",
      "Cell \u001b[1;32mIn[82], line 6\u001b[0m\n\u001b[0;32m      3\u001b[0m \u001b[38;5;66;03m# mp.dps=200\u001b[39;00m\n\u001b[0;32m      4\u001b[0m wt\u001b[38;5;241m=\u001b[39mnp\u001b[38;5;241m.\u001b[39mhstack((np\u001b[38;5;241m.\u001b[39mabs(z1),np\u001b[38;5;241m.\u001b[39mabs(z1)))\n\u001b[1;32m----> 6\u001b[0m \u001b[43mcmodel2\u001b[49m\u001b[38;5;241;43m.\u001b[39;49m\u001b[43mfit\u001b[49m\u001b[43m(\u001b[49m\u001b[43mimpedance\u001b[49m\u001b[38;5;241;43m=\u001b[39;49m\u001b[43mz1\u001b[49m\u001b[43m,\u001b[49m\u001b[43mfrequencies\u001b[49m\u001b[38;5;241;43m=\u001b[39;49m\u001b[43mf\u001b[49m\u001b[43m,\u001b[49m\u001b[43mbounds\u001b[49m\u001b[38;5;241;43m=\u001b[39;49m\u001b[43m(\u001b[49m\u001b[43m(\u001b[49m\u001b[38;5;241;43m0\u001b[39;49m\u001b[43m,\u001b[49m\u001b[38;5;241;43m0\u001b[39;49m\u001b[43m,\u001b[49m\u001b[38;5;241;43m0\u001b[39;49m\u001b[43m,\u001b[49m\u001b[38;5;241;43m0\u001b[39;49m\u001b[43m,\u001b[49m\u001b[38;5;241;43m0.5\u001b[39;49m\u001b[43m)\u001b[49m\u001b[43m,\u001b[49m\u001b[43m(\u001b[49m\u001b[43mnp\u001b[49m\u001b[38;5;241;43m.\u001b[39;49m\u001b[43minf\u001b[49m\u001b[43m,\u001b[49m\u001b[43mnp\u001b[49m\u001b[38;5;241;43m.\u001b[39;49m\u001b[43minf\u001b[49m\u001b[43m,\u001b[49m\u001b[43mnp\u001b[49m\u001b[38;5;241;43m.\u001b[39;49m\u001b[43minf\u001b[49m\u001b[43m,\u001b[49m\u001b[38;5;241;43m1\u001b[39;49m\u001b[43m,\u001b[49m\u001b[38;5;241;43m1\u001b[39;49m\u001b[43m)\u001b[49m\u001b[43m)\u001b[49m\u001b[43m)\u001b[49m\n\u001b[0;32m      7\u001b[0m z2\u001b[38;5;241m=\u001b[39mcmodel2\u001b[38;5;241m.\u001b[39mpredict(frequencies\u001b[38;5;241m=\u001b[39mf)\n\u001b[0;32m      9\u001b[0m fig, ax\u001b[38;5;241m=\u001b[39mplt\u001b[38;5;241m.\u001b[39msubplots()\n",
      "File \u001b[1;32m~\\AppData\\Local\\Packages\\PythonSoftwareFoundation.Python.3.10_qbz5n2kfra8p0\\LocalCache\\local-packages\\Python310\\site-packages\\impedance\\models\\circuits\\circuits.py:100\u001b[0m, in \u001b[0;36mBaseCircuit.fit\u001b[1;34m(self, frequencies, impedance, bounds, weight_by_modulus, **kwargs)\u001b[0m\n\u001b[0;32m     97\u001b[0m     \u001b[38;5;28;01mraise\u001b[39;00m \u001b[38;5;167;01mTypeError\u001b[39;00m(\u001b[38;5;124m'\u001b[39m\u001b[38;5;124mlength of frequencies and impedance do not match\u001b[39m\u001b[38;5;124m'\u001b[39m)\n\u001b[0;32m     99\u001b[0m \u001b[38;5;28;01mif\u001b[39;00m \u001b[38;5;28mself\u001b[39m\u001b[38;5;241m.\u001b[39minitial_guess \u001b[38;5;241m!=\u001b[39m []:\n\u001b[1;32m--> 100\u001b[0m     parameters, conf \u001b[38;5;241m=\u001b[39m circuit_fit(frequencies, impedance,\n\u001b[0;32m    101\u001b[0m                                    \u001b[38;5;28mself\u001b[39m\u001b[38;5;241m.\u001b[39mcircuit, \u001b[38;5;28mself\u001b[39m\u001b[38;5;241m.\u001b[39minitial_guess,\n\u001b[0;32m    102\u001b[0m                                    constants\u001b[38;5;241m=\u001b[39m\u001b[38;5;28mself\u001b[39m\u001b[38;5;241m.\u001b[39mconstants,\n\u001b[0;32m    103\u001b[0m                                    bounds\u001b[38;5;241m=\u001b[39mbounds,\n\u001b[0;32m    104\u001b[0m                                    weight_by_modulus\u001b[38;5;241m=\u001b[39mweight_by_modulus,\n\u001b[0;32m    105\u001b[0m                                    \u001b[38;5;241m*\u001b[39m\u001b[38;5;241m*\u001b[39mkwargs)\n\u001b[0;32m    106\u001b[0m     \u001b[38;5;28mself\u001b[39m\u001b[38;5;241m.\u001b[39mparameters_ \u001b[38;5;241m=\u001b[39m parameters\n\u001b[0;32m    107\u001b[0m     \u001b[38;5;28;01mif\u001b[39;00m conf \u001b[38;5;129;01mis\u001b[39;00m \u001b[38;5;129;01mnot\u001b[39;00m \u001b[38;5;28;01mNone\u001b[39;00m:\n",
      "File \u001b[1;32m~\\AppData\\Local\\Packages\\PythonSoftwareFoundation.Python.3.10_qbz5n2kfra8p0\\LocalCache\\local-packages\\Python310\\site-packages\\impedance\\models\\circuits\\fitting.py:152\u001b[0m, in \u001b[0;36mcircuit_fit\u001b[1;34m(frequencies, impedances, circuit, initial_guess, constants, bounds, weight_by_modulus, global_opt, **kwargs)\u001b[0m\n\u001b[0;32m    149\u001b[0m     abs_Z \u001b[38;5;241m=\u001b[39m np\u001b[38;5;241m.\u001b[39mabs(Z)\n\u001b[0;32m    150\u001b[0m     kwargs[\u001b[38;5;124m'\u001b[39m\u001b[38;5;124msigma\u001b[39m\u001b[38;5;124m'\u001b[39m] \u001b[38;5;241m=\u001b[39m np\u001b[38;5;241m.\u001b[39mhstack([abs_Z, abs_Z])\n\u001b[1;32m--> 152\u001b[0m popt, pcov \u001b[38;5;241m=\u001b[39m curve_fit(wrapCircuit(circuit, constants), f,\n\u001b[0;32m    153\u001b[0m                        np\u001b[38;5;241m.\u001b[39mhstack([Z\u001b[38;5;241m.\u001b[39mreal, Z\u001b[38;5;241m.\u001b[39mimag]),\n\u001b[0;32m    154\u001b[0m                        p0\u001b[38;5;241m=\u001b[39minitial_guess, bounds\u001b[38;5;241m=\u001b[39mbounds, \u001b[38;5;241m*\u001b[39m\u001b[38;5;241m*\u001b[39mkwargs)\n\u001b[0;32m    156\u001b[0m \u001b[38;5;66;03m# Calculate one standard deviation error estimates for fit parameters,\u001b[39;00m\n\u001b[0;32m    157\u001b[0m \u001b[38;5;66;03m# defined as the square root of the diagonal of the covariance matrix.\u001b[39;00m\n\u001b[0;32m    158\u001b[0m \u001b[38;5;66;03m# https://stackoverflow.com/a/52275674/5144795\u001b[39;00m\n\u001b[0;32m    159\u001b[0m perror \u001b[38;5;241m=\u001b[39m np\u001b[38;5;241m.\u001b[39msqrt(np\u001b[38;5;241m.\u001b[39mdiag(pcov))\n",
      "File \u001b[1;32m~\\AppData\\Local\\Packages\\PythonSoftwareFoundation.Python.3.10_qbz5n2kfra8p0\\LocalCache\\local-packages\\Python310\\site-packages\\scipy\\optimize\\_minpack_py.py:874\u001b[0m, in \u001b[0;36mcurve_fit\u001b[1;34m(f, xdata, ydata, p0, sigma, absolute_sigma, check_finite, bounds, method, jac, full_output, **kwargs)\u001b[0m\n\u001b[0;32m    870\u001b[0m res \u001b[38;5;241m=\u001b[39m least_squares(func, p0, jac\u001b[38;5;241m=\u001b[39mjac, bounds\u001b[38;5;241m=\u001b[39mbounds, method\u001b[38;5;241m=\u001b[39mmethod,\n\u001b[0;32m    871\u001b[0m                     \u001b[38;5;241m*\u001b[39m\u001b[38;5;241m*\u001b[39mkwargs)\n\u001b[0;32m    873\u001b[0m \u001b[38;5;28;01mif\u001b[39;00m \u001b[38;5;129;01mnot\u001b[39;00m res\u001b[38;5;241m.\u001b[39msuccess:\n\u001b[1;32m--> 874\u001b[0m     \u001b[38;5;28;01mraise\u001b[39;00m \u001b[38;5;167;01mRuntimeError\u001b[39;00m(\u001b[38;5;124m\"\u001b[39m\u001b[38;5;124mOptimal parameters not found: \u001b[39m\u001b[38;5;124m\"\u001b[39m \u001b[38;5;241m+\u001b[39m res\u001b[38;5;241m.\u001b[39mmessage)\n\u001b[0;32m    876\u001b[0m infodict \u001b[38;5;241m=\u001b[39m \u001b[38;5;28mdict\u001b[39m(nfev\u001b[38;5;241m=\u001b[39mres\u001b[38;5;241m.\u001b[39mnfev, fvec\u001b[38;5;241m=\u001b[39mres\u001b[38;5;241m.\u001b[39mfun)\n\u001b[0;32m    877\u001b[0m ier \u001b[38;5;241m=\u001b[39m res\u001b[38;5;241m.\u001b[39mstatus\n",
      "\u001b[1;31mRuntimeError\u001b[0m: Optimal parameters not found: The maximum number of function evaluations is exceeded."
     ]
    }
   ],
   "source": [
    "f=np.logspace(-3,4,100)\n",
    "z1=cmodel1.predict(frequencies=f)\n",
    "# mp.dps=200\n",
    "wt=np.hstack((np.abs(z1),np.abs(z1)))\n",
    "\n",
    "cmodel2.fit(impedance=z1,frequencies=f,bounds=((0,0,0,0,0.5),(np.inf,np.inf,np.inf,1,1)))\n",
    "z2=cmodel2.predict(frequencies=f)\n",
    "\n",
    "fig, ax=plt.subplots()\n",
    "ax.plot(np.real(z1),-np.imag(z1),label=\"Two-step with Stray CPE\")\n",
    "ax.plot(np.real(z2),-np.imag(z2),label=\"Fitted Two-step\")\n",
    "txt=\"$Q_{stray}=$\"+f\"{Qdl}\"\n",
    "ax.text(500,500,txt)\n",
    "ax.legend(fontsize=18)\n",
    "ax.set_xlabel(\"Re(Z)$\\;($K$\\Omega$)\",fontsize=20)\n",
    "ax.set_ylabel(\"-Im(Z)$\\;($K$\\Omega$)\",fontsize=20)\n",
    "ax.tick_params(labelsize=14)\n",
    "ax.set_aspect(\"equal\")\n",
    "# ax.set_xlim(-1000,1000)\n",
    "# ax.set_ylim(0,70000)\n",
    "ax.legend()\n",
    "fig.tight_layout()\n",
    "fig.savefig(\"stray CPE.png\",dpi=700)"
   ]
  },
  {
   "cell_type": "code",
   "execution_count": 73,
   "metadata": {},
   "outputs": [
    {
     "data": {
      "text/plain": [
       "mpf('0.0')"
      ]
     },
     "execution_count": 73,
     "metadata": {},
     "output_type": "execute_result"
    }
   ],
   "source": [
    "mp.dps=3\n",
    "a=mpf(45.667)\n",
    "b=mpf(45.6674)\n",
    "a-b"
   ]
  }
 ],
 "metadata": {
  "kernelspec": {
   "display_name": "Python 3",
   "language": "python",
   "name": "python3"
  },
  "language_info": {
   "codemirror_mode": {
    "name": "ipython",
    "version": 3
   },
   "file_extension": ".py",
   "mimetype": "text/x-python",
   "name": "python",
   "nbconvert_exporter": "python",
   "pygments_lexer": "ipython3",
   "version": "3.10.11"
  }
 },
 "nbformat": 4,
 "nbformat_minor": 2
}
