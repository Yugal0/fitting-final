{
 "cells": [
  {
   "cell_type": "code",
   "execution_count": 2,
   "metadata": {},
   "outputs": [],
   "source": [
    "%matplotlib ipympl\n",
    "from models import *\n",
    "# from models import find_index_of_nearest\n",
    "from impedance.preprocessing import readCSV, readBioLogic\n",
    "from impedance.visualization import plot_nyquist,plot_bode\n",
    "from impedance.models.circuits import CustomCircuit\n",
    "import numpy as np\n",
    "import scipy as sp\n",
    "import matplotlib.pyplot as plt\n",
    "# from arbitau import give_z_for_arbitary_tau, tau_plotter\n",
    "from scipy.integrate import solve_bvp"
   ]
  },
  {
   "cell_type": "code",
   "execution_count": null,
   "metadata": {},
   "outputs": [],
   "source": [
    "freq_list=np.logspace(-1,4,100)\n",
    "#parameter for the TLM\n",
    "Q=6.61e-4\n",
    "alpha=1\n",
    "\n",
    "R1=5.22*194.5\n",
    "delta1=0.12\n",
    "R2=3.47*194.5\n",
    "delta2=0.17\n",
    "R3=2.15*194.5\n",
    "\n",
    "\n",
    "#initial guesses for the HFR intercept and for any semicircle like features in the EIS data\n",
    "Rhfr=40\n",
    "Rrxn=40\n",
    "Qdl=1e-6\n",
    "alpha2=1\n",
    "\n",
    "cmodel=CustomCircuit(initial_guess=[R1,R1*Q,R2*Q,delta1,alpha,Rhfr,Rrxn,Qdl,alpha2],circuit=\"TLMtwo_1-R_1-p(R_2,CPE_1)\")\n",
    "zexp=cmodel.predict(frequencies=freq_list)\n",
    "zexp_noise=np.real(zexp)+np.random.normal(0,0.02,(len(zexp)))*np.real(zexp)+(np.imag(zexp)+np.random.normal(0,0.02,(len(zexp)))*np.imag(zexp))*1j\n",
    "fig, ax =plt.subplots()\n",
    "# ax.plot([0,delta1,delta1,1],[R1,R1,R2,R2])\n",
    "ax.plot(np.real(zexp_noise),-np.imag(zexp_noise))\n",
    "ax.plot(np.real(zexp),-np.imag(zexp))\n",
    "ax.set_aspect(\"equal\")"
   ]
  },
  {
   "cell_type": "code",
   "execution_count": null,
   "metadata": {},
   "outputs": [],
   "source": [
    "#initial guesses for the TLM\n",
    "#Double layer Capacitance inside porous electrode\n",
    "Q=6.61e-4\n",
    "alpha=1\n",
    "\n",
    "R1=400\n",
    "delta1=0.3\n",
    "R2=400\n",
    "\n",
    "R3=400\n",
    "delta2=0.3\n",
    "\n",
    "\n",
    "#initial guesses for the HFR intercept and for any semicircle like features in the EIS data\n",
    "Rhfr=200\n",
    "Rrxn=200\n",
    "Qdl=6.61e-4\n",
    "alpha2=1\n",
    "\n",
    "#other (for arbitrary tortuosity profile)\n",
    "Rref=200\n",
    "a=4\n",
    "b=5\n",
    "\n",
    "cmodel=CustomCircuit(initial_guess=[R1,R1*Q,R2*Q,R3*Q,delta1,delta2,alpha,Rhfr,Rrxn,Qdl,alpha2],circuit=\"TLMtwo_1-R_1-p(R_2,CPE_1)\")"
   ]
  },
  {
   "cell_type": "code",
   "execution_count": null,
   "metadata": {},
   "outputs": [],
   "source": [
    "#wt=\"unit\"\n",
    "wt=\"mod\"\n",
    "#wt=\"prop\"\n",
    "\n",
    "def give_weights(z,wt):\n",
    "    if (wt==\"mod\"):\n",
    "        return np.concatenate((np.abs(z),np.abs(z)))\n",
    "    elif (wt==\"prop\"):\n",
    "        return np.concatenate((np.real(z),np.imag(z)))\n",
    "    elif (wt==\"\" or wt==\"unit\"):\n",
    "        return np.ones(2*len(z))\n",
    "\n",
    "cmodel1.fit(impedance=zexp_to_fit,frequencies=freq_to_fit,sigma=give_weights(zexp_to_fit,wt),bounds=[(0,0,0.5,0,0,0,0,0,0.5),(np.inf,np.inf,1,np.inf,np.inf,np.inf,np.inf,np.inf,1)])"
   ]
  },
  {
   "cell_type": "code",
   "execution_count": 16,
   "metadata": {},
   "outputs": [
    {
     "data": {
      "text/plain": [
       "-0.013505035916743083"
      ]
     },
     "execution_count": 16,
     "metadata": {},
     "output_type": "execute_result"
    }
   ],
   "source": [
    "a=np.random.normal(0,0.03)\n",
    "a"
   ]
  }
 ],
 "metadata": {
  "kernelspec": {
   "display_name": "Python 3",
   "language": "python",
   "name": "python3"
  },
  "language_info": {
   "codemirror_mode": {
    "name": "ipython",
    "version": 3
   },
   "file_extension": ".py",
   "mimetype": "text/x-python",
   "name": "python",
   "nbconvert_exporter": "python",
   "pygments_lexer": "ipython3",
   "version": "3.11.4"
  }
 },
 "nbformat": 4,
 "nbformat_minor": 2
}
